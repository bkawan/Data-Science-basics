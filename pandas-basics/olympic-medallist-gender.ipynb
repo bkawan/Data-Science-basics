{
 "cells": [
  {
   "cell_type": "markdown",
   "metadata": {},
   "source": [
    "- @author bkawan\n",
    "- @date 16 May 2016"
   ]
  },
  {
   "cell_type": "code",
   "execution_count": 52,
   "metadata": {
    "collapsed": false
   },
   "outputs": [],
   "source": [
    "from pandas import DataFrame,read_excel\n",
    "\n",
    "import matplotlib.pyplot as plot\n",
    "import pandas as panda\n",
    "%matplotlib inline\n"
   ]
  },
  {
   "cell_type": "markdown",
   "metadata": {},
   "source": [
    "# Read Data"
   ]
  },
  {
   "cell_type": "code",
   "execution_count": null,
   "metadata": {
    "collapsed": true
   },
   "outputs": [],
   "source": []
  },
  {
   "cell_type": "code",
   "execution_count": 2,
   "metadata": {
    "collapsed": true
   },
   "outputs": [],
   "source": [
    "location = 'olympic.xlsx'"
   ]
  },
  {
   "cell_type": "code",
   "execution_count": 3,
   "metadata": {
    "collapsed": false
   },
   "outputs": [
    {
     "data": {
      "text/html": [
       "<div>\n",
       "<table border=\"1\" class=\"dataframe\">\n",
       "  <thead>\n",
       "    <tr style=\"text-align: right;\">\n",
       "      <th></th>\n",
       "      <th>City</th>\n",
       "      <th>Edition</th>\n",
       "      <th>Sport</th>\n",
       "      <th>Discipline</th>\n",
       "      <th>Athlete</th>\n",
       "      <th>NOC</th>\n",
       "      <th>Gender</th>\n",
       "      <th>Event</th>\n",
       "      <th>Event_gender</th>\n",
       "      <th>Medal</th>\n",
       "    </tr>\n",
       "  </thead>\n",
       "  <tbody>\n",
       "    <tr>\n",
       "      <th>0</th>\n",
       "      <td>Athens</td>\n",
       "      <td>1896</td>\n",
       "      <td>Aquatics</td>\n",
       "      <td>Swimming</td>\n",
       "      <td>HAJOS, Alfred</td>\n",
       "      <td>HUN</td>\n",
       "      <td>Men</td>\n",
       "      <td>100m freestyle</td>\n",
       "      <td>M</td>\n",
       "      <td>Gold</td>\n",
       "    </tr>\n",
       "    <tr>\n",
       "      <th>1</th>\n",
       "      <td>Athens</td>\n",
       "      <td>1896</td>\n",
       "      <td>Aquatics</td>\n",
       "      <td>Swimming</td>\n",
       "      <td>HERSCHMANN, Otto</td>\n",
       "      <td>AUT</td>\n",
       "      <td>Men</td>\n",
       "      <td>100m freestyle</td>\n",
       "      <td>M</td>\n",
       "      <td>Silver</td>\n",
       "    </tr>\n",
       "    <tr>\n",
       "      <th>2</th>\n",
       "      <td>Athens</td>\n",
       "      <td>1896</td>\n",
       "      <td>Aquatics</td>\n",
       "      <td>Swimming</td>\n",
       "      <td>DRIVAS, Dimitrios</td>\n",
       "      <td>GRE</td>\n",
       "      <td>Men</td>\n",
       "      <td>100m freestyle for sailors</td>\n",
       "      <td>M</td>\n",
       "      <td>Bronze</td>\n",
       "    </tr>\n",
       "    <tr>\n",
       "      <th>3</th>\n",
       "      <td>Athens</td>\n",
       "      <td>1896</td>\n",
       "      <td>Aquatics</td>\n",
       "      <td>Swimming</td>\n",
       "      <td>MALOKINIS, Ioannis</td>\n",
       "      <td>GRE</td>\n",
       "      <td>Men</td>\n",
       "      <td>100m freestyle for sailors</td>\n",
       "      <td>M</td>\n",
       "      <td>Gold</td>\n",
       "    </tr>\n",
       "    <tr>\n",
       "      <th>4</th>\n",
       "      <td>Athens</td>\n",
       "      <td>1896</td>\n",
       "      <td>Aquatics</td>\n",
       "      <td>Swimming</td>\n",
       "      <td>CHASAPIS, Spiridon</td>\n",
       "      <td>GRE</td>\n",
       "      <td>Men</td>\n",
       "      <td>100m freestyle for sailors</td>\n",
       "      <td>M</td>\n",
       "      <td>Silver</td>\n",
       "    </tr>\n",
       "  </tbody>\n",
       "</table>\n",
       "</div>"
      ],
      "text/plain": [
       "     City  Edition     Sport Discipline             Athlete  NOC Gender  \\\n",
       "0  Athens     1896  Aquatics   Swimming       HAJOS, Alfred  HUN    Men   \n",
       "1  Athens     1896  Aquatics   Swimming    HERSCHMANN, Otto  AUT    Men   \n",
       "2  Athens     1896  Aquatics   Swimming   DRIVAS, Dimitrios  GRE    Men   \n",
       "3  Athens     1896  Aquatics   Swimming  MALOKINIS, Ioannis  GRE    Men   \n",
       "4  Athens     1896  Aquatics   Swimming  CHASAPIS, Spiridon  GRE    Men   \n",
       "\n",
       "                        Event Event_gender   Medal  \n",
       "0              100m freestyle            M    Gold  \n",
       "1              100m freestyle            M  Silver  \n",
       "2  100m freestyle for sailors            M  Bronze  \n",
       "3  100m freestyle for sailors            M    Gold  \n",
       "4  100m freestyle for sailors            M  Silver  "
      ]
     },
     "execution_count": 3,
     "metadata": {},
     "output_type": "execute_result"
    }
   ],
   "source": [
    "df = panda.read_excel(location, sheetname='ALL MEDALISTS', skiprows=4)\n",
    "df.head()"
   ]
  },
  {
   "cell_type": "markdown",
   "metadata": {},
   "source": [
    "### Drop Empty shells if any"
   ]
  },
  {
   "cell_type": "code",
   "execution_count": 4,
   "metadata": {
    "collapsed": false
   },
   "outputs": [
    {
     "data": {
      "text/html": [
       "<div>\n",
       "<table border=\"1\" class=\"dataframe\">\n",
       "  <thead>\n",
       "    <tr style=\"text-align: right;\">\n",
       "      <th></th>\n",
       "      <th>City</th>\n",
       "      <th>Edition</th>\n",
       "      <th>Sport</th>\n",
       "      <th>Discipline</th>\n",
       "      <th>Athlete</th>\n",
       "      <th>NOC</th>\n",
       "      <th>Gender</th>\n",
       "      <th>Event</th>\n",
       "      <th>Event_gender</th>\n",
       "      <th>Medal</th>\n",
       "    </tr>\n",
       "  </thead>\n",
       "  <tbody>\n",
       "    <tr>\n",
       "      <th>0</th>\n",
       "      <td>Athens</td>\n",
       "      <td>1896</td>\n",
       "      <td>Aquatics</td>\n",
       "      <td>Swimming</td>\n",
       "      <td>HAJOS, Alfred</td>\n",
       "      <td>HUN</td>\n",
       "      <td>Men</td>\n",
       "      <td>100m freestyle</td>\n",
       "      <td>M</td>\n",
       "      <td>Gold</td>\n",
       "    </tr>\n",
       "    <tr>\n",
       "      <th>1</th>\n",
       "      <td>Athens</td>\n",
       "      <td>1896</td>\n",
       "      <td>Aquatics</td>\n",
       "      <td>Swimming</td>\n",
       "      <td>HERSCHMANN, Otto</td>\n",
       "      <td>AUT</td>\n",
       "      <td>Men</td>\n",
       "      <td>100m freestyle</td>\n",
       "      <td>M</td>\n",
       "      <td>Silver</td>\n",
       "    </tr>\n",
       "    <tr>\n",
       "      <th>2</th>\n",
       "      <td>Athens</td>\n",
       "      <td>1896</td>\n",
       "      <td>Aquatics</td>\n",
       "      <td>Swimming</td>\n",
       "      <td>DRIVAS, Dimitrios</td>\n",
       "      <td>GRE</td>\n",
       "      <td>Men</td>\n",
       "      <td>100m freestyle for sailors</td>\n",
       "      <td>M</td>\n",
       "      <td>Bronze</td>\n",
       "    </tr>\n",
       "    <tr>\n",
       "      <th>3</th>\n",
       "      <td>Athens</td>\n",
       "      <td>1896</td>\n",
       "      <td>Aquatics</td>\n",
       "      <td>Swimming</td>\n",
       "      <td>MALOKINIS, Ioannis</td>\n",
       "      <td>GRE</td>\n",
       "      <td>Men</td>\n",
       "      <td>100m freestyle for sailors</td>\n",
       "      <td>M</td>\n",
       "      <td>Gold</td>\n",
       "    </tr>\n",
       "    <tr>\n",
       "      <th>4</th>\n",
       "      <td>Athens</td>\n",
       "      <td>1896</td>\n",
       "      <td>Aquatics</td>\n",
       "      <td>Swimming</td>\n",
       "      <td>CHASAPIS, Spiridon</td>\n",
       "      <td>GRE</td>\n",
       "      <td>Men</td>\n",
       "      <td>100m freestyle for sailors</td>\n",
       "      <td>M</td>\n",
       "      <td>Silver</td>\n",
       "    </tr>\n",
       "  </tbody>\n",
       "</table>\n",
       "</div>"
      ],
      "text/plain": [
       "     City  Edition     Sport Discipline             Athlete  NOC Gender  \\\n",
       "0  Athens     1896  Aquatics   Swimming       HAJOS, Alfred  HUN    Men   \n",
       "1  Athens     1896  Aquatics   Swimming    HERSCHMANN, Otto  AUT    Men   \n",
       "2  Athens     1896  Aquatics   Swimming   DRIVAS, Dimitrios  GRE    Men   \n",
       "3  Athens     1896  Aquatics   Swimming  MALOKINIS, Ioannis  GRE    Men   \n",
       "4  Athens     1896  Aquatics   Swimming  CHASAPIS, Spiridon  GRE    Men   \n",
       "\n",
       "                        Event Event_gender   Medal  \n",
       "0              100m freestyle            M    Gold  \n",
       "1              100m freestyle            M  Silver  \n",
       "2  100m freestyle for sailors            M  Bronze  \n",
       "3  100m freestyle for sailors            M    Gold  \n",
       "4  100m freestyle for sailors            M  Silver  "
      ]
     },
     "execution_count": 4,
     "metadata": {},
     "output_type": "execute_result"
    }
   ],
   "source": [
    "df = df.dropna()\n",
    "df.head()"
   ]
  },
  {
   "cell_type": "code",
   "execution_count": 5,
   "metadata": {
    "collapsed": false
   },
   "outputs": [
    {
     "data": {
      "text/plain": [
       "City            29216\n",
       "Edition         29216\n",
       "Sport           29216\n",
       "Discipline      29216\n",
       "Athlete         29216\n",
       "NOC             29216\n",
       "Gender          29216\n",
       "Event           29216\n",
       "Event_gender    29216\n",
       "Medal           29216\n",
       "dtype: int64"
      ]
     },
     "execution_count": 5,
     "metadata": {},
     "output_type": "execute_result"
    }
   ],
   "source": [
    "df.count()## count all shell"
   ]
  },
  {
   "cell_type": "code",
   "execution_count": 6,
   "metadata": {
    "collapsed": false
   },
   "outputs": [
    {
     "name": "stdout",
     "output_type": "stream",
     "text": [
      "All Cities\n",
      " ['Athens' 'Paris' 'St Louis' 'London' 'Stockholm' 'Antwerp' 'Amsterdam'\n",
      " 'Los Angeles' 'Berlin' 'Helsinki' 'Melbourne / Stockholm' 'Rome' 'Tokyo'\n",
      " 'Mexico' 'Munich' 'Montreal' 'Moscow' 'Seoul' 'Barcelona' 'Atlanta'\n",
      " 'Sydney' 'Beijing']\n",
      "**************\n",
      "Total Cities 22\n"
     ]
    }
   ],
   "source": [
    "c=df.City.unique()\n",
    "print('All Cities\\n',c)## List of All cities\n",
    "print('**************\\nTotal Cities',len(c))\n"
   ]
  },
  {
   "cell_type": "code",
   "execution_count": 7,
   "metadata": {
    "collapsed": false
   },
   "outputs": [
    {
     "name": "stdout",
     "output_type": "stream",
     "text": [
      "All Athlete\n",
      " 0                      HAJOS, Alfred\n",
      "1                   HERSCHMANN, Otto\n",
      "2                  DRIVAS, Dimitrios\n",
      "3                 MALOKINIS, Ioannis\n",
      "4                 CHASAPIS, Spiridon\n",
      "5              CHOROPHAS, Efstathios\n",
      "6                      HAJOS, Alfred\n",
      "7                   ANDREOU, Joannis\n",
      "8              CHOROPHAS, Efstathios\n",
      "9                      NEUMANN, Paul\n",
      "10                 PEPANOS, Antonios\n",
      "11                     LANE, Francis\n",
      "12                  SZOKOLYI, Alajos\n",
      "13                     BURKE, Thomas\n",
      "14                    HOFMANN, Fritz\n",
      "15                    CURTIS, Thomas\n",
      "16                GOULDING, Grantley\n",
      "17                 LERMUSIAUX, Albin\n",
      "18                      FLACK, Edwin\n",
      "19                     BLAKE, Arthur\n",
      "20                   GMELIN, Charles\n",
      "21                     BURKE, Thomas\n",
      "22                  JAMISON, Herbert\n",
      "23                GOLEMIS, Dimitrios\n",
      "24                      FLACK, Edwin\n",
      "25                      DANI, Nandor\n",
      "26                  VERSIS, Sotirios\n",
      "27                   GARRETT, Robert\n",
      "28       PARASKEVOPOULOS, Panagiotis\n",
      "29                     CLARK, Ellery\n",
      "                    ...             \n",
      "29186               MUTALIMOV, Marid\n",
      "29187                TAYMAZOV, Artur\n",
      "29188            AKHMEDOV, Bakhtiyar\n",
      "29189                  AMOYAN, Roman\n",
      "29190                 PARK, Eun-Chul\n",
      "29191                 MANKIEV, Nazyr\n",
      "29192              BAYRAMOV, Rovshan\n",
      "29193          TENGIZBAYEV, Nurbakyt\n",
      "29194             TIUMENBAEV, Ruslan\n",
      "29195             ALBIEV, Islam-Beka\n",
      "29196               RAHIMOV, Vitaliy\n",
      "29197             SIAMIONAU, Mikhail\n",
      "29198               VARDANYAN, Armen\n",
      "29199                 GUENOT, Steeve\n",
      "29200             BEGALIEV, Kanatbek\n",
      "29201             GUENOT, Christophe\n",
      "29202                YANAKIEV, Yavor\n",
      "29203            KVIRKELIA, Manuchar\n",
      "29204               CHANG, Yongxiang\n",
      "29205                  AVLUCA, Nazmi\n",
      "29206               MINGUZZI, Andrea\n",
      "29207                  FODOR, Zoltan\n",
      "29208                MAMBETOV, Asset\n",
      "29209                  WHEELER, Adam\n",
      "29210             KHUSHTOV, Aslanbek\n",
      "29211                 ENGLICH, Mirko\n",
      "29212           MIZGAITIS, Mindaugas\n",
      "29213                PATRIKEEV, Yuri\n",
      "29214                  LOPEZ, Mijain\n",
      "29215                 BAROEV, Khasan\n",
      "Name: Athlete, dtype: object\n",
      "**************\n",
      "Total  Athelete 29216\n"
     ]
    }
   ],
   "source": [
    "totalAthelete=df.Athlete\n",
    "print('All Athlete\\n',totalAthelete)## List of All unique Athlete\n",
    "print('**************\\nTotal  Athelete',len(totalAthelete)) "
   ]
  },
  {
   "cell_type": "code",
   "execution_count": 8,
   "metadata": {
    "collapsed": false
   },
   "outputs": [
    {
     "name": "stdout",
     "output_type": "stream",
     "text": [
      "All Athlete\n",
      " ['HAJOS, Alfred' 'HERSCHMANN, Otto' 'DRIVAS, Dimitrios' ...,\n",
      " 'MIZGAITIS, Mindaugas' 'PATRIKEEV, Yuri' 'LOPEZ, Mijain']\n",
      "**************\n",
      "Total Unique Athelete 21413\n"
     ]
    }
   ],
   "source": [
    "a=df.Athlete.unique()\n",
    "print('All Athlete\\n',a)## List of All unique Athlete\n",
    "print('**************\\nTotal Unique Athelete',len(a)) "
   ]
  },
  {
   "cell_type": "code",
   "execution_count": 9,
   "metadata": {
    "collapsed": false
   },
   "outputs": [
    {
     "name": "stdout",
     "output_type": "stream",
     "text": [
      "***** All Events ****\n",
      "0                100m freestyle\n",
      "1                100m freestyle\n",
      "2    100m freestyle for sailors\n",
      "3    100m freestyle for sailors\n",
      "4    100m freestyle for sailors\n",
      "Name: Event, dtype: object\n",
      "**********************\n",
      "Total Event count 29216\n",
      "***** All Unique  Events****\n",
      "['100m freestyle' '100m freestyle for sailors' '1200m freestyle'\n",
      " '400m freestyle' '100m' '110m hurdles' '1500m' '400m' '800m'\n",
      " 'discus throw' 'high jump' 'long jump' 'marathon' 'pole vault' 'shot put'\n",
      " 'triple jump' 'individual road race' '100km' '10km' '12-hour race'\n",
      " '1km time trial' 'Sprint indivual' 'foil individual' 'foil, masters'\n",
      " 'sabre individual' 'horizontal bar' 'parallel bars' 'pommel horse' 'rings'\n",
      " 'rope climbing' 'team, horizontal bar' 'team, parallel bars' 'vault'\n",
      " '25m army pistol' '25m rapid fire pistol (60 shots)'\n",
      " '50m pistol (60 shots)' 'army rifle, 200m' 'army rifle, 300m' 'doubles'\n",
      " 'singles' 'heavyweight - one hand lift' 'heavyweight - two hand lift'\n",
      " 'open event' '1500m freestyle' '200m backstroke' '200m freestyle'\n",
      " '200m obstacle event' '200m team swimming' '4000m freestyle'\n",
      " 'underwater swimming' 'water polo' 'au chapelet, 33m' 'au chapelet, 50m'\n",
      " 'au cordon doré, 33m' 'au cordon doré, 50m' 'sur la perche à la herse'\n",
      " 'sur la perche à la pyramide' '200m' '200m hurdles' '3000m steeplechase'\n",
      " '4000m steeplechase' '400m hurdles' '5000m team' '60m' 'hammer throw'\n",
      " 'high jump, standing' 'long jump, standing' 'triple jump, standing'\n",
      " 'cesta punta' 'cricket' 'double' 'individual 1 ball' 'individual 2 balls'\n",
      " '25 kilometres' 'individual' 'long jump individual' 'épée individual'\n",
      " 'épée, amateurs and masters' 'épée, masters' 'sabre, masters' 'football'\n",
      " 'individual all-round' 'polo' 'eight with coxswain (8+)'\n",
      " 'four-oared shell with coxswain (4-)'\n",
      " 'pair-oared shell with coxswain (2+)' 'single sculls (1x)' 'rugby'\n",
      " '0.5-1t' '10-20t' '3-10t' 'open class' '50m army pistol, team'\n",
      " 'army rifle, 300m, 3 positions' 'army rifle, 300m, kneeling'\n",
      " 'army rifle, 300m, prone' 'army rifle, 300m, standing' 'free rifle, team'\n",
      " 'trap (125 targets)' 'mixed doubles' 'tug of war' '10m platform'\n",
      " 'plunge for distance' '100m backstroke' '400m breaststroke'\n",
      " '4x50y freestyle relay' '50y freestyle (45.72m)'\n",
      " '880y freestyle (804.66m)' 'double american round (60y - 50y - 40y)'\n",
      " 'double columbia round (50y - 40y - 30y)'\n",
      " 'double national round (60y - 50y)' 'double york round (100y - 80y - 60y)'\n",
      " 'team round 60y' 'teams FITA round' '4miles team'\n",
      " '56lb weight throw (25.4kg)' 'decathlon'\n",
      " 'triathlon (long jump / shot put / 100 yards)' '- 47.63kg (flyweight)'\n",
      " '+ 71.67kg (heavyweight)' '47.63 - 52.16kg (bantamweight)'\n",
      " '52.16 - 56.7kg (featherweight)' '56.7 - 61.24kg (lightweight)'\n",
      " '61.24 - 65.77kg (welterweight)' '65.77 - 71.67kg (middleweight)'\n",
      " '1 mile (1609.3m)' '1/2 mile (804.7m)' '1/3 mile (536.5m)'\n",
      " '1/4 mile (402.3m)' '2 miles (3.218km)' '25 miles (40.232km)'\n",
      " '5 miles (8.046km)' 'foil team' 'stick, single' 'team' 'club swinging'\n",
      " 'combined 3 events' 'combined 4 events' 'team competition' 'lacrosse'\n",
      " 'coxless pair (2-)' 'double sculls (2x)' 'four without coxswain (4-)'\n",
      " 'all-around Dumbbell contest' '- 47.6kg (light-flyweight)'\n",
      " '47.6 - 52.16kg (flyweight)' '52.16 - 56.7kg (bantamweight)'\n",
      " '56.7 - 61.23kg (featherweight)' '61.23 - 65.77kg (lightweight)'\n",
      " '65.77 - 71.67kg (welterweight)' '3m springboard' '200m breaststroke'\n",
      " '4x200m freestyle relay' 'continental style 50m'\n",
      " 'national round (60y - 50y)' 'york round (100y - 80y - 60y)'\n",
      " '10miles walk (16093m)' '3200m steeplechase' '3500m walk'\n",
      " '3miles team (4828m)' '4x400m relay' '5 miles (8047m)'\n",
      " 'discus throw ancient style' 'javelin throw' 'javelin throw freestyle'\n",
      " '- 52.62kg (bantamweight)' '52.62 - 57.15kg (featherweight)'\n",
      " '57.15 - 63.5kg (lightweight)' '63.5 - 71.67kg (middleweight)'\n",
      " '1980 yards Pursuit, Team' '2000m tandem' '20km' '5000m'\n",
      " 'One lap (660y) sprint' 'épée team' 'sabre team' 'hockey' '12m' '6m' '7m'\n",
      " '8m' '1000y free rifle, prone' '100m running deer, double shots'\n",
      " '100m running deer, single shots' '100m running deer, single shots, team'\n",
      " '25y small bore rifle, disappearing target'\n",
      " '25y small bore rifle, moving target'\n",
      " '300m free rifle 3 positions (3x40 shots)'\n",
      " '50+100y small bore rifle, team' '50m rifle prone (60 shots)'\n",
      " '50y army pistol, team' 'clay pigeons, team' 'rifle, team' 'pairs'\n",
      " 'special figures' 'doubles indoor' 'singles indoor' '8m class C'\n",
      " 'class B up to 60 feet' 'open class A' '- 54kg (bantamweight)'\n",
      " '+ 73kg (heavyweight)' '54 - 60.3kg (featherweight)'\n",
      " '60.3 - 66.6kg (lightweight)' '66.6 - 73kg (middleweight)'\n",
      " '- 66.6kg (lightweight)' '+ 93kg (super heavyweight)'\n",
      " '73 - 93kg (light-heavyweight)' 'plain high diving'\n",
      " '4x100m freestyle relay' '10000m' '10000m walk' '3000m team'\n",
      " '4x100m relay' 'cross country individual' 'cross country team'\n",
      " 'discus throw, both hands' 'javelin throw, both hands' 'pentathlon'\n",
      " 'shot put, both hands' 'individual time trial' 'team time trial'\n",
      " 'team, free system' 'team, Swedish system' 'Individual competition'\n",
      " 'coxed fours Jugriggers' '10m' '25m small bore rifle, team'\n",
      " '25m small rifle' '30m army pistol, team' '50m small bore rifle, team'\n",
      " '600m free rifle' 'mixed doubles indoor' '- 60kg (featherweight)'\n",
      " '+ 82.5kg (super heavyweight)' '60 - 67.5kg (lightweight)'\n",
      " '67.5 - 75kg (middleweight)' '75 - 82.5kg (light-heavyweight)'\n",
      " 'fixed bird target large birds' 'fixed bird target large birds teams'\n",
      " 'fixed bird target small bird, teams' 'fixed bird target small birds'\n",
      " 'moving bird target 28m teams' 'moving bird target 33m teams'\n",
      " 'moving bird target 50m teams' 'moving bird target, 28m'\n",
      " 'moving bird target, 33m' 'moving bird target, 50m' '3000m walk'\n",
      " '- 50.8kg (flyweight)' '+ 79.38kg (heavyweight)'\n",
      " '50.8 - 53.52kg (bantamweight)' '53.52 - 57.15kg (featherweight)'\n",
      " '57.15 - 61.24kg (lightweight)' '61.24 - 66.68kg (welterweight)'\n",
      " '66.68 - 72.57kg (middleweight)' '72.57 - 79.38kg (light-heavyweight)'\n",
      " '50km' 'Team Pursuit (4000m)' 'figure riding individual'\n",
      " 'figure riding team' 'ice hockey' '10m (rating 1907)' '10m (rating 1919)'\n",
      " '12 foot dinghy' '12m (rating 1907)' '12m (rating 1919)' '18 foot dinghy'\n",
      " '30m sq' '40m sq' '6.5m (rating 1919)' '6m (rating 1907)'\n",
      " '6m (rating 1919)' '8m (rating 1907)' '8m (rating 1919)'\n",
      " '100m running deer, double shots, team' '300+600m free rifle, team, prone'\n",
      " '300m free rifle, prone, team' '300m free rifle, standing, team'\n",
      " '50m small bore rifle, standing, individual' '600m free rifle, prone'\n",
      " '600m free rifle, team' '- 60kg, one-two hand 3 events (featherweight)'\n",
      " '+ 82.5kg, one-two hand 3 events (heavyweight)'\n",
      " '60 - 67.5kg, one-two hand 3 events (lightweight)'\n",
      " '67.5 - 75kg, one-two hand 3 events (middleweight)'\n",
      " '75 - 82.5kg, one-two hand 3 e. (light-heavyweight)'\n",
      " '+ 80kg (heavyweight)' '75 - 80kg (light-heavyweight)'\n",
      " '+ 82kg (super heavyweight)' '75 - 82kg (light-heavyweight)'\n",
      " 'Sidehorse vault' 'olympic class monotype'\n",
      " '400, 600, 800m free rifle, team' '600m free rifle, individual'\n",
      " '- 60kg, one-two hand 5 events (featherweight)'\n",
      " '+ 82.5kg, one-two hand 5 events (heavyweight)'\n",
      " '60 - 67.5kg, one-two hand 5 events (lightweight)'\n",
      " '67.5 - 75kg, one-two hand 5 events (middleweight)'\n",
      " '75 - 82.5kg, one-two hand 5 e. (light-heavyweight)'\n",
      " '- 56kg (bantamweight)' '+ 87kg (heavyweight)' '56 - 61kg (featherweight)'\n",
      " '61 - 66kg (lightweight)' '66 - 72kg (welterweight)'\n",
      " '72 - 79kg (middleweight)' '79 - 87kg (light-heavyweight)'\n",
      " '- 58kg (bantamweight)' '58 - 62kg (featherweight)'\n",
      " '62 - 67.5kg (lightweight)' '1km Pursuit' '12 foot dinghy individual'\n",
      " '- 60kg, total (featherweight)' '+ 82.5kg, total (heavyweight)'\n",
      " '60 - 67.5kg, total (lightweight)' '67.5 - 75kg, total (middleweight)'\n",
      " '75 - 82.5kg, total (light-heavyweight)' '58 - 60kg (featherweight)'\n",
      " '50km walk' '80m hurdles' '50.8 - 54kg (bantamweight)'\n",
      " '54 - 57.15kg (featherweight)' 'floor exercises' 'indian clubs' 'tumbling'\n",
      " 'two-person keelboat open (Star)' '+ 87kg (super heavyweight)'\n",
      " 'basketball' 'C-1 1000m (canoe single)' 'C-2 10000m'\n",
      " 'C-2 1000m (canoe double)' 'folding K-1 10000m' 'folding K-2 10000m'\n",
      " 'K-1 10000m' 'K-1 1000m (kayak single)' 'K-2 10000m'\n",
      " 'K-2 1000m (kayak double)' 'handball' '- 51kg (flyweight)'\n",
      " '51 - 54kg (bantamweight)' '54 - 58kg (featherweight)'\n",
      " '58 - 62kg (lightweight)' '62 - 67kg (welterweight)'\n",
      " '67 - 73kg (middleweight)' '73 - 80kg (light-heavyweight)' 'C-1 10000m'\n",
      " 'K-1 500m (kayak single)' 'dragon' 'firefly class' 'swallow (golondrina)'\n",
      " '- 56kg, total (bantamweight)' '56 - 60kg, total (featherweight)'\n",
      " '- 52kg (flyweight)' '52 - 57kg (bantamweight)'\n",
      " '57 - 63kg (featherweight)' '63 - 67kg (lightweight)'\n",
      " '67 - 73kg (welterweight)' '73 - 79kg (middleweight)'\n",
      " '57 - 61kg (featherweight)' '61 - 67kg (lightweight)'\n",
      " '+ 81kg (heavyweight)' '54 - 57kg (featherweight)'\n",
      " '57 - 60kg (lightweight)' '60 - 63.5kg (light-welterweight)'\n",
      " '63.5 - 67kg (welterweight)' '67 - 71kg (light-middleweight)' '71-75kg'\n",
      " '75 - 81kg (light-heavyweight)' 'balance beam' 'team, portable apparatus'\n",
      " 'uneven bars' 'Team competition' '5.5m' 'single-handed dinghy (Finn)'\n",
      " '100m running deer, single/double shots'\n",
      " '50m rifle 3 positions (3x40 shots)' '+ 90kg, total (heavyweight)'\n",
      " '82.5 - 90kg, total (middle-heavyweight)' '100m butterfly'\n",
      " '200m butterfly' '20km walk' 'sharpie 12m2' '4x100m medley relay'\n",
      " 'K-1 4x500m' 'K-2 500m (kayak double)' 'flying dutchman'\n",
      " '400m individual medley' 'K-4 1000m (kayak four)' 'Individual Pursuit'\n",
      " '- 68kg (lightweight)' '68 - 80kg (middleweight)' 'open category'\n",
      " 'volleyball' '+ 97kg (heavyweight)' '63 - 70kg (lightweight)'\n",
      " '70 - 78kg (welterweight)' '78 - 87kg (middleweight)'\n",
      " '87 - 97kg (light-heavyweight)' '+ 97kg (super heavyweight)'\n",
      " '100m breaststroke' '200m individual medley' '800m freestyle'\n",
      " '- 48kg (light-flyweight)' '48 - 51kg (flyweight)' 'skeet (125 targets)'\n",
      " 'individual FITA round' '100m hurdles' 'C-1 (canoe single)'\n",
      " 'C-2 (canoe double)' 'K-1 (kayak single)' '- 63kg (lightweight)'\n",
      " '+ 93kg (heavyweight)' '63 - 70kg (half-middleweight)'\n",
      " '70 - 80kg (middleweight)' '80 - 93kg (half-heavyweight)'\n",
      " 'fleet/match race keelboat open (Soling)' 'tempest'\n",
      " '50m running target (30+30 shots)' '- 52kg, total (flyweight)'\n",
      " '+ 110kg, total (super heavyweight)' '52 - 56kg, total (bantamweight)'\n",
      " '91 - 110kg, total (heavyweight)' '+ 100kg (super heavyweight)'\n",
      " '48 - 52kg (flyweight)' '57 - 62kg (featherweight)'\n",
      " '62 - 68kg (lightweight)' '68 - 74kg (welterweight)'\n",
      " '74 - 82kg (middleweight)' '82 - 90kg (light-heavyweight)'\n",
      " '90 - 100kg (heavyweight)' 'C-1 500m (canoe single)'\n",
      " 'C-2 500m (canoe double)' 'pair without coxswain (2-)'\n",
      " 'quadruple sculls with coxswain (4x)'\n",
      " 'quadruple sculls without coxswain (4x)' '470 - Two Person Dinghy'\n",
      " 'Tornado - Multihull' '- 60 kg' '+ 95kg (heavyweight)'\n",
      " '60 - 65kg (half-lightweight)' '65 - 71kg (lightweight)'\n",
      " '71 - 78kg (half-middleweight)' '78 - 86kg (middleweight)'\n",
      " '86 - 95kg (half-heavyweight)' '100 - 110kg, total (heavyweight)'\n",
      " '90 - 100kg, total (first-heavyweight)' 'duet' 'solo' '3000m' 'heptathlon'\n",
      " '+ 91kg (super heavyweight)' '81 - 91kg (heavyweight)'\n",
      " 'K-4 500m (kayak four)' 'Points Race' 'board (windglider)'\n",
      " '10m air rifle (40 shots)' '10m air rifle (60 shots)'\n",
      " '25m pistol (30+30 shots)' '50m rifle 3 positions (3x20 shots)'\n",
      " '50m freestyle' 'sprint' 'board (division II)' '10m air pistol (40 shots)'\n",
      " '10m air pistol (60 shots)' '100 - 130kg (super heavyweight)'\n",
      " 'individual (FITA Olympic round - 70m)' 'team (FITA Olympic round - 70m)'\n",
      " 'baseball' 'individual pursuit' '- 48kg (extra-lightweight)'\n",
      " '+ 72kg (heavyweight)' '48 - 52kg (half-lightweight)'\n",
      " '52 - 56kg (lightweight)' '56 - 61kg (half-middleweight)'\n",
      " '61 - 66kg (middleweight)' '66 - 72kg (half-heavyweight)'\n",
      " 'coxless four (4-)' 'board (lechner)' 'single-handed dinghy (Europe)'\n",
      " 'points race' 'cross-country' 'group competition' '+ 100kg (heavyweight)'\n",
      " '60 - 66kg (half-lightweight)' '66 - 73kg (lightweight)'\n",
      " '73 - 81kg (half-middleweight)' '81 - 90kg (middleweight)'\n",
      " '90 - 100kg (half-heavyweight)' 'lightweight coxless four (4-)'\n",
      " 'lightweight double sculls (2x)' 'board (Mistral)'\n",
      " 'single-handed dinghy open (Laser)' 'double trap (120 targets)'\n",
      " 'double trap (150 targets)' 'softball' 'beach volleyball'\n",
      " '- 54kg, total (flyweight)' '+ 108kg, total (super heavyweight)'\n",
      " '54 - 59kg, total (bantamweight)' '59 - 64kg, total (featherweight)'\n",
      " '64 - 70kg, total (lightweight)' '70 - 76kg, total (middleweight)'\n",
      " '76 - 83kg, total (light-heavyweight)'\n",
      " '83 - 91kg, total (middle-heavyweight)'\n",
      " '91 - 99kg, total (first-heavyweight)' '99 - 108kg, total (heavyweight)'\n",
      " 'synchronized diving 10m platform' 'synchronized diving 3m springboard'\n",
      " '20km race walk' '500m time trial' 'Keirin' 'Madison' 'Olympic Sprint'\n",
      " '+ 78kg (heavyweight)' '52 - 57kg (lightweight)'\n",
      " '57 - 63kg (half-middleweight)' '63 - 70kg (middleweight)'\n",
      " '70 - 78kg (half-heavyweight)' '49er - Skiff'\n",
      " '10m running target (30+30 shots)' 'skeet (75 targets)'\n",
      " 'trap (75 targets)' '- 49 kg' '- 58 kg' '+ 67 kg' '+ 80 kg' '49 - 57 kg'\n",
      " '57 - 67 kg' '58 - 68 kg' '68 - 80 kg' 'Individual' '+ 105kg' '+ 75kg'\n",
      " '105kg' '48kg' '53kg' '56kg' '58kg' '62kg' '63kg' '69kg' '75kg' '77kg'\n",
      " '85kg' '94kg' '48 - 54kg' '54 - 58kg' '58 - 63kg' '63 - 69kg' '69 - 76kg'\n",
      " '76 - 85kg' '85 - 97kg' '97 - 130kg' '48kg (light flywieght)' '60 - 64 kg'\n",
      " '64 - 69 kg' '69 - 75 kg' 'Team Sprint' '- 48 kg' 'Star - Keelboat'\n",
      " 'Yngling - Keelboat' '- 48kg' '- 55kg' '48 - 55kg' '55 - 60kg' '55 - 63kg'\n",
      " '60 - 66kg' '63 - 72kg' '66 - 74kg' '74 - 84kg' '84 - 96kg' '96 - 120kg'\n",
      " 'marathon 10km' 'Finn - Heavyweight Dinghy' 'Laser - One Person Dinghy'\n",
      " 'Laser Radial - One Person Dinghy' 'RS:X - Windsurfer']\n",
      "**********************\n",
      "Total Unique Events count 577\n"
     ]
    }
   ],
   "source": [
    "all_event = df.Event\n",
    "print(\"***** All Events ****\")\n",
    "\n",
    "\n",
    "print(all_event.head())\n",
    "print(\"**********************\")\n",
    "print('Total Event count' , all_event.count())\n",
    "\n",
    "unique_events = df.Event.unique()\n",
    "print(\"***** All Unique  Events****\")\n",
    "\n",
    "\n",
    "print(unique_events)\n",
    "print(\"**********************\")\n",
    "print('Total Unique Events count' , len(unique_events))\n",
    "\n",
    "\n",
    "\n",
    "\n",
    "#event = df.Event.unique()# number of unique events"
   ]
  },
  {
   "cell_type": "code",
   "execution_count": 10,
   "metadata": {
    "collapsed": false
   },
   "outputs": [
    {
     "data": {
      "text/plain": [
       "array(['Gold', 'Silver', 'Bronze'], dtype=object)"
      ]
     },
     "execution_count": 10,
     "metadata": {},
     "output_type": "execute_result"
    }
   ],
   "source": [
    "df.Medal.unique()"
   ]
  },
  {
   "cell_type": "code",
   "execution_count": 11,
   "metadata": {
    "collapsed": false
   },
   "outputs": [
    {
     "data": {
      "text/plain": [
       "array(['Gold', 'Silver', 'Bronze'], dtype=object)"
      ]
     },
     "execution_count": 11,
     "metadata": {},
     "output_type": "execute_result"
    }
   ],
   "source": [
    "df['Medal'].unique()"
   ]
  },
  {
   "cell_type": "code",
   "execution_count": 12,
   "metadata": {
    "collapsed": false
   },
   "outputs": [
    {
     "data": {
      "text/plain": [
       "array(['Men', 'Women'], dtype=object)"
      ]
     },
     "execution_count": 12,
     "metadata": {},
     "output_type": "execute_result"
    }
   ],
   "source": [
    "df.Gender.unique()# number of unique gender"
   ]
  },
  {
   "cell_type": "code",
   "execution_count": 13,
   "metadata": {
    "collapsed": false
   },
   "outputs": [
    {
     "data": {
      "text/plain": [
       "array(['Aquatics', 'Athletics', 'Cycling', 'Fencing', 'Gymnastics',\n",
       "       'Shooting', 'Tennis', 'Weightlifting', 'Wrestling', 'Archery',\n",
       "       'Basque Pelota', 'Cricket', 'Croquet', 'Equestrian', 'Football',\n",
       "       'Golf', 'Polo', 'Rowing', 'Rugby', 'Sailing', 'Tug of War',\n",
       "       'Boxing', 'Lacrosse', 'Roque', 'Hockey', 'Jeu de paume', 'Rackets',\n",
       "       'Skating', 'Water Motorsports', 'Modern Pentathlon', 'Ice Hockey',\n",
       "       'Basketball', 'Canoe / Kayak', 'Handball', 'Judo', 'Volleyball',\n",
       "       'Table Tennis', 'Badminton', 'Baseball', 'Softball', 'Taekwondo',\n",
       "       'Triathlon'], dtype=object)"
      ]
     },
     "execution_count": 13,
     "metadata": {},
     "output_type": "execute_result"
    }
   ],
   "source": [
    "df.Sport.unique()## number of unique sports"
   ]
  },
  {
   "cell_type": "code",
   "execution_count": 14,
   "metadata": {
    "collapsed": false
   },
   "outputs": [
    {
     "data": {
      "text/plain": [
       "0    Athens\n",
       "1    Athens\n",
       "2    Athens\n",
       "3    Athens\n",
       "4    Athens\n",
       "Name: City, dtype: object"
      ]
     },
     "execution_count": 14,
     "metadata": {},
     "output_type": "execute_result"
    }
   ],
   "source": [
    "df.City.head()"
   ]
  },
  {
   "cell_type": "code",
   "execution_count": 15,
   "metadata": {
    "collapsed": false
   },
   "outputs": [
    {
     "data": {
      "text/plain": [
       "29216"
      ]
     },
     "execution_count": 15,
     "metadata": {},
     "output_type": "execute_result"
    }
   ],
   "source": [
    "df.City.count()"
   ]
  },
  {
   "cell_type": "code",
   "execution_count": 16,
   "metadata": {
    "collapsed": false
   },
   "outputs": [
    {
     "data": {
      "text/plain": [
       "array(['Athens', 'Paris', 'St Louis', 'London', 'Stockholm', 'Antwerp',\n",
       "       'Amsterdam', 'Los Angeles', 'Berlin', 'Helsinki',\n",
       "       'Melbourne / Stockholm', 'Rome', 'Tokyo', 'Mexico', 'Munich',\n",
       "       'Montreal', 'Moscow', 'Seoul', 'Barcelona', 'Atlanta', 'Sydney',\n",
       "       'Beijing'], dtype=object)"
      ]
     },
     "execution_count": 16,
     "metadata": {},
     "output_type": "execute_result"
    }
   ],
   "source": [
    "df.City.unique()"
   ]
  },
  {
   "cell_type": "markdown",
   "metadata": {},
   "source": [
    "# Total Gender count"
   ]
  },
  {
   "cell_type": "code",
   "execution_count": 17,
   "metadata": {
    "collapsed": false
   },
   "outputs": [
    {
     "data": {
      "text/plain": [
       "29216"
      ]
     },
     "execution_count": 17,
     "metadata": {},
     "output_type": "execute_result"
    }
   ],
   "source": [
    "df.Gender.count()## total Gender count"
   ]
  },
  {
   "cell_type": "code",
   "execution_count": null,
   "metadata": {
    "collapsed": true
   },
   "outputs": [],
   "source": []
  },
  {
   "cell_type": "code",
   "execution_count": 18,
   "metadata": {
    "collapsed": false
   },
   "outputs": [
    {
     "data": {
      "text/plain": [
       "29216"
      ]
     },
     "execution_count": 18,
     "metadata": {},
     "output_type": "execute_result"
    }
   ],
   "source": [
    "df['Gender'].count()## total Gender count"
   ]
  },
  {
   "cell_type": "markdown",
   "metadata": {},
   "source": [
    "# Gender  - MEN"
   ]
  },
  {
   "cell_type": "code",
   "execution_count": 19,
   "metadata": {
    "collapsed": false
   },
   "outputs": [
    {
     "data": {
      "text/html": [
       "<div>\n",
       "<table border=\"1\" class=\"dataframe\">\n",
       "  <thead>\n",
       "    <tr style=\"text-align: right;\">\n",
       "      <th></th>\n",
       "      <th>City</th>\n",
       "      <th>Edition</th>\n",
       "      <th>Sport</th>\n",
       "      <th>Discipline</th>\n",
       "      <th>Athlete</th>\n",
       "      <th>NOC</th>\n",
       "      <th>Gender</th>\n",
       "      <th>Event</th>\n",
       "      <th>Event_gender</th>\n",
       "      <th>Medal</th>\n",
       "    </tr>\n",
       "  </thead>\n",
       "  <tbody>\n",
       "    <tr>\n",
       "      <th>0</th>\n",
       "      <td>Athens</td>\n",
       "      <td>1896</td>\n",
       "      <td>Aquatics</td>\n",
       "      <td>Swimming</td>\n",
       "      <td>HAJOS, Alfred</td>\n",
       "      <td>HUN</td>\n",
       "      <td>Men</td>\n",
       "      <td>100m freestyle</td>\n",
       "      <td>M</td>\n",
       "      <td>Gold</td>\n",
       "    </tr>\n",
       "    <tr>\n",
       "      <th>1</th>\n",
       "      <td>Athens</td>\n",
       "      <td>1896</td>\n",
       "      <td>Aquatics</td>\n",
       "      <td>Swimming</td>\n",
       "      <td>HERSCHMANN, Otto</td>\n",
       "      <td>AUT</td>\n",
       "      <td>Men</td>\n",
       "      <td>100m freestyle</td>\n",
       "      <td>M</td>\n",
       "      <td>Silver</td>\n",
       "    </tr>\n",
       "    <tr>\n",
       "      <th>2</th>\n",
       "      <td>Athens</td>\n",
       "      <td>1896</td>\n",
       "      <td>Aquatics</td>\n",
       "      <td>Swimming</td>\n",
       "      <td>DRIVAS, Dimitrios</td>\n",
       "      <td>GRE</td>\n",
       "      <td>Men</td>\n",
       "      <td>100m freestyle for sailors</td>\n",
       "      <td>M</td>\n",
       "      <td>Bronze</td>\n",
       "    </tr>\n",
       "    <tr>\n",
       "      <th>3</th>\n",
       "      <td>Athens</td>\n",
       "      <td>1896</td>\n",
       "      <td>Aquatics</td>\n",
       "      <td>Swimming</td>\n",
       "      <td>MALOKINIS, Ioannis</td>\n",
       "      <td>GRE</td>\n",
       "      <td>Men</td>\n",
       "      <td>100m freestyle for sailors</td>\n",
       "      <td>M</td>\n",
       "      <td>Gold</td>\n",
       "    </tr>\n",
       "    <tr>\n",
       "      <th>4</th>\n",
       "      <td>Athens</td>\n",
       "      <td>1896</td>\n",
       "      <td>Aquatics</td>\n",
       "      <td>Swimming</td>\n",
       "      <td>CHASAPIS, Spiridon</td>\n",
       "      <td>GRE</td>\n",
       "      <td>Men</td>\n",
       "      <td>100m freestyle for sailors</td>\n",
       "      <td>M</td>\n",
       "      <td>Silver</td>\n",
       "    </tr>\n",
       "  </tbody>\n",
       "</table>\n",
       "</div>"
      ],
      "text/plain": [
       "     City  Edition     Sport Discipline             Athlete  NOC Gender  \\\n",
       "0  Athens     1896  Aquatics   Swimming       HAJOS, Alfred  HUN    Men   \n",
       "1  Athens     1896  Aquatics   Swimming    HERSCHMANN, Otto  AUT    Men   \n",
       "2  Athens     1896  Aquatics   Swimming   DRIVAS, Dimitrios  GRE    Men   \n",
       "3  Athens     1896  Aquatics   Swimming  MALOKINIS, Ioannis  GRE    Men   \n",
       "4  Athens     1896  Aquatics   Swimming  CHASAPIS, Spiridon  GRE    Men   \n",
       "\n",
       "                        Event Event_gender   Medal  \n",
       "0              100m freestyle            M    Gold  \n",
       "1              100m freestyle            M  Silver  \n",
       "2  100m freestyle for sailors            M  Bronze  \n",
       "3  100m freestyle for sailors            M    Gold  \n",
       "4  100m freestyle for sailors            M  Silver  "
      ]
     },
     "execution_count": 19,
     "metadata": {},
     "output_type": "execute_result"
    }
   ],
   "source": [
    "men = df['Gender'] == 'Men'\n",
    "dfmen = df[men]\n",
    "dfmen.head()## data frame of all men\n",
    "\n"
   ]
  },
  {
   "cell_type": "code",
   "execution_count": 20,
   "metadata": {
    "collapsed": false
   },
   "outputs": [
    {
     "data": {
      "text/plain": [
       "21721"
      ]
     },
     "execution_count": 20,
     "metadata": {},
     "output_type": "execute_result"
    }
   ],
   "source": [
    "dfmen.Gender.count()## total men\n",
    "\n",
    "totalMen = dfmen.Gender.count()\n",
    "totalMen\n"
   ]
  },
  {
   "cell_type": "markdown",
   "metadata": {},
   "source": [
    "# Gold Medal - Men"
   ]
  },
  {
   "cell_type": "code",
   "execution_count": 21,
   "metadata": {
    "collapsed": false
   },
   "outputs": [
    {
     "data": {
      "text/html": [
       "<div>\n",
       "<table border=\"1\" class=\"dataframe\">\n",
       "  <thead>\n",
       "    <tr style=\"text-align: right;\">\n",
       "      <th></th>\n",
       "      <th>City</th>\n",
       "      <th>Edition</th>\n",
       "      <th>Sport</th>\n",
       "      <th>Discipline</th>\n",
       "      <th>Athlete</th>\n",
       "      <th>NOC</th>\n",
       "      <th>Gender</th>\n",
       "      <th>Event</th>\n",
       "      <th>Event_gender</th>\n",
       "      <th>Medal</th>\n",
       "    </tr>\n",
       "  </thead>\n",
       "  <tbody>\n",
       "    <tr>\n",
       "      <th>0</th>\n",
       "      <td>Athens</td>\n",
       "      <td>1896</td>\n",
       "      <td>Aquatics</td>\n",
       "      <td>Swimming</td>\n",
       "      <td>HAJOS, Alfred</td>\n",
       "      <td>HUN</td>\n",
       "      <td>Men</td>\n",
       "      <td>100m freestyle</td>\n",
       "      <td>M</td>\n",
       "      <td>Gold</td>\n",
       "    </tr>\n",
       "    <tr>\n",
       "      <th>3</th>\n",
       "      <td>Athens</td>\n",
       "      <td>1896</td>\n",
       "      <td>Aquatics</td>\n",
       "      <td>Swimming</td>\n",
       "      <td>MALOKINIS, Ioannis</td>\n",
       "      <td>GRE</td>\n",
       "      <td>Men</td>\n",
       "      <td>100m freestyle for sailors</td>\n",
       "      <td>M</td>\n",
       "      <td>Gold</td>\n",
       "    </tr>\n",
       "    <tr>\n",
       "      <th>6</th>\n",
       "      <td>Athens</td>\n",
       "      <td>1896</td>\n",
       "      <td>Aquatics</td>\n",
       "      <td>Swimming</td>\n",
       "      <td>HAJOS, Alfred</td>\n",
       "      <td>HUN</td>\n",
       "      <td>Men</td>\n",
       "      <td>1200m freestyle</td>\n",
       "      <td>M</td>\n",
       "      <td>Gold</td>\n",
       "    </tr>\n",
       "    <tr>\n",
       "      <th>9</th>\n",
       "      <td>Athens</td>\n",
       "      <td>1896</td>\n",
       "      <td>Aquatics</td>\n",
       "      <td>Swimming</td>\n",
       "      <td>NEUMANN, Paul</td>\n",
       "      <td>AUT</td>\n",
       "      <td>Men</td>\n",
       "      <td>400m freestyle</td>\n",
       "      <td>M</td>\n",
       "      <td>Gold</td>\n",
       "    </tr>\n",
       "    <tr>\n",
       "      <th>13</th>\n",
       "      <td>Athens</td>\n",
       "      <td>1896</td>\n",
       "      <td>Athletics</td>\n",
       "      <td>Athletics</td>\n",
       "      <td>BURKE, Thomas</td>\n",
       "      <td>USA</td>\n",
       "      <td>Men</td>\n",
       "      <td>100m</td>\n",
       "      <td>M</td>\n",
       "      <td>Gold</td>\n",
       "    </tr>\n",
       "  </tbody>\n",
       "</table>\n",
       "</div>"
      ],
      "text/plain": [
       "      City  Edition      Sport Discipline             Athlete  NOC Gender  \\\n",
       "0   Athens     1896   Aquatics   Swimming       HAJOS, Alfred  HUN    Men   \n",
       "3   Athens     1896   Aquatics   Swimming  MALOKINIS, Ioannis  GRE    Men   \n",
       "6   Athens     1896   Aquatics   Swimming       HAJOS, Alfred  HUN    Men   \n",
       "9   Athens     1896   Aquatics   Swimming       NEUMANN, Paul  AUT    Men   \n",
       "13  Athens     1896  Athletics  Athletics       BURKE, Thomas  USA    Men   \n",
       "\n",
       "                         Event Event_gender Medal  \n",
       "0               100m freestyle            M  Gold  \n",
       "3   100m freestyle for sailors            M  Gold  \n",
       "6              1200m freestyle            M  Gold  \n",
       "9               400m freestyle            M  Gold  \n",
       "13                        100m            M  Gold  "
      ]
     },
     "execution_count": 21,
     "metadata": {},
     "output_type": "execute_result"
    }
   ],
   "source": [
    "## filtering only gold medal in dfmen\n",
    "gold_medal= dfmen['Medal'] =='Gold'\n",
    "gold_medal_dfmen = dfmen[gold_medal]\n",
    "gold_medal_dfmen.head()"
   ]
  },
  {
   "cell_type": "code",
   "execution_count": 22,
   "metadata": {
    "collapsed": false
   },
   "outputs": [
    {
     "data": {
      "text/plain": [
       "7365"
      ]
     },
     "execution_count": 22,
     "metadata": {},
     "output_type": "execute_result"
    }
   ],
   "source": [
    "gold_medal_dfmen.Medal.count()## count gold medal\n",
    "total_gold_medal_men = gold_medal_dfmen.Medal.count()\n",
    "total_gold_medal_men"
   ]
  },
  {
   "cell_type": "markdown",
   "metadata": {},
   "source": [
    "# Silver Medal- Men"
   ]
  },
  {
   "cell_type": "code",
   "execution_count": 23,
   "metadata": {
    "collapsed": false
   },
   "outputs": [
    {
     "name": "stdout",
     "output_type": "stream",
     "text": [
      "21721\n",
      "0    False\n",
      "1     True\n",
      "2    False\n",
      "3    False\n",
      "4     True\n",
      "Name: Medal, dtype: bool\n",
      "****************\n",
      " total count for  all columns men having silver medal City            7181\n",
      "Edition         7181\n",
      "Sport           7181\n",
      "Discipline      7181\n",
      "Athlete         7181\n",
      "NOC             7181\n",
      "Gender          7181\n",
      "Event           7181\n",
      "Event_gender    7181\n",
      "Medal           7181\n",
      "dtype: int64 ***********\n",
      "\n"
     ]
    },
    {
     "data": {
      "text/html": [
       "<div>\n",
       "<table border=\"1\" class=\"dataframe\">\n",
       "  <thead>\n",
       "    <tr style=\"text-align: right;\">\n",
       "      <th></th>\n",
       "      <th>City</th>\n",
       "      <th>Edition</th>\n",
       "      <th>Sport</th>\n",
       "      <th>Discipline</th>\n",
       "      <th>Athlete</th>\n",
       "      <th>NOC</th>\n",
       "      <th>Gender</th>\n",
       "      <th>Event</th>\n",
       "      <th>Event_gender</th>\n",
       "      <th>Medal</th>\n",
       "    </tr>\n",
       "  </thead>\n",
       "  <tbody>\n",
       "    <tr>\n",
       "      <th>1</th>\n",
       "      <td>Athens</td>\n",
       "      <td>1896</td>\n",
       "      <td>Aquatics</td>\n",
       "      <td>Swimming</td>\n",
       "      <td>HERSCHMANN, Otto</td>\n",
       "      <td>AUT</td>\n",
       "      <td>Men</td>\n",
       "      <td>100m freestyle</td>\n",
       "      <td>M</td>\n",
       "      <td>Silver</td>\n",
       "    </tr>\n",
       "    <tr>\n",
       "      <th>4</th>\n",
       "      <td>Athens</td>\n",
       "      <td>1896</td>\n",
       "      <td>Aquatics</td>\n",
       "      <td>Swimming</td>\n",
       "      <td>CHASAPIS, Spiridon</td>\n",
       "      <td>GRE</td>\n",
       "      <td>Men</td>\n",
       "      <td>100m freestyle for sailors</td>\n",
       "      <td>M</td>\n",
       "      <td>Silver</td>\n",
       "    </tr>\n",
       "    <tr>\n",
       "      <th>7</th>\n",
       "      <td>Athens</td>\n",
       "      <td>1896</td>\n",
       "      <td>Aquatics</td>\n",
       "      <td>Swimming</td>\n",
       "      <td>ANDREOU, Joannis</td>\n",
       "      <td>GRE</td>\n",
       "      <td>Men</td>\n",
       "      <td>1200m freestyle</td>\n",
       "      <td>M</td>\n",
       "      <td>Silver</td>\n",
       "    </tr>\n",
       "    <tr>\n",
       "      <th>10</th>\n",
       "      <td>Athens</td>\n",
       "      <td>1896</td>\n",
       "      <td>Aquatics</td>\n",
       "      <td>Swimming</td>\n",
       "      <td>PEPANOS, Antonios</td>\n",
       "      <td>GRE</td>\n",
       "      <td>Men</td>\n",
       "      <td>400m freestyle</td>\n",
       "      <td>M</td>\n",
       "      <td>Silver</td>\n",
       "    </tr>\n",
       "    <tr>\n",
       "      <th>14</th>\n",
       "      <td>Athens</td>\n",
       "      <td>1896</td>\n",
       "      <td>Athletics</td>\n",
       "      <td>Athletics</td>\n",
       "      <td>HOFMANN, Fritz</td>\n",
       "      <td>GER</td>\n",
       "      <td>Men</td>\n",
       "      <td>100m</td>\n",
       "      <td>M</td>\n",
       "      <td>Silver</td>\n",
       "    </tr>\n",
       "  </tbody>\n",
       "</table>\n",
       "</div>"
      ],
      "text/plain": [
       "      City  Edition      Sport Discipline             Athlete  NOC Gender  \\\n",
       "1   Athens     1896   Aquatics   Swimming    HERSCHMANN, Otto  AUT    Men   \n",
       "4   Athens     1896   Aquatics   Swimming  CHASAPIS, Spiridon  GRE    Men   \n",
       "7   Athens     1896   Aquatics   Swimming    ANDREOU, Joannis  GRE    Men   \n",
       "10  Athens     1896   Aquatics   Swimming   PEPANOS, Antonios  GRE    Men   \n",
       "14  Athens     1896  Athletics  Athletics      HOFMANN, Fritz  GER    Men   \n",
       "\n",
       "                         Event Event_gender   Medal  \n",
       "1               100m freestyle            M  Silver  \n",
       "4   100m freestyle for sailors            M  Silver  \n",
       "7              1200m freestyle            M  Silver  \n",
       "10              400m freestyle            M  Silver  \n",
       "14                        100m            M  Silver  "
      ]
     },
     "execution_count": 23,
     "metadata": {},
     "output_type": "execute_result"
    }
   ],
   "source": [
    "## filter dataframe dfmen by silver medal\n",
    "silver_medal = dfmen['Medal'] =='Silver'\n",
    "print(silver_medal.count())## count all ie true false\n",
    "print(silver_medal.head())## print true false \n",
    "silver_medal_dfmen = dfmen[silver_medal]# give only true result\n",
    "print(\"****************\\n total count for  all columns men having silver medal\",silver_medal_dfmen.count(),\"***********\\n\" )\n",
    "silver_medal_dfmen.head()\n"
   ]
  },
  {
   "cell_type": "code",
   "execution_count": 24,
   "metadata": {
    "collapsed": false
   },
   "outputs": [
    {
     "data": {
      "text/plain": [
       "7181"
      ]
     },
     "execution_count": 24,
     "metadata": {},
     "output_type": "execute_result"
    }
   ],
   "source": [
    "silver_medal_dfmen.Medal.count()## count silver medal\n",
    "total_silver_medal_men = silver_medal_dfmen.Medal.count()\n",
    "total_silver_medal_men"
   ]
  },
  {
   "cell_type": "markdown",
   "metadata": {},
   "source": [
    "# Bronze Medal - MEN"
   ]
  },
  {
   "cell_type": "code",
   "execution_count": 25,
   "metadata": {
    "collapsed": false
   },
   "outputs": [
    {
     "name": "stdout",
     "output_type": "stream",
     "text": [
      "****** Checking if medal is bronze or not ******\n",
      "0        False\n",
      "1        False\n",
      "2         True\n",
      "3        False\n",
      "4        False\n",
      "5         True\n",
      "6        False\n",
      "7        False\n",
      "8         True\n",
      "9        False\n",
      "10       False\n",
      "11        True\n",
      "12        True\n",
      "13       False\n",
      "14       False\n",
      "15       False\n",
      "16       False\n",
      "17        True\n",
      "18       False\n",
      "19       False\n",
      "20        True\n",
      "21       False\n",
      "22       False\n",
      "23        True\n",
      "24       False\n",
      "25       False\n",
      "26        True\n",
      "27       False\n",
      "28       False\n",
      "29       False\n",
      "         ...  \n",
      "29186     True\n",
      "29187    False\n",
      "29188    False\n",
      "29189     True\n",
      "29190     True\n",
      "29191    False\n",
      "29192    False\n",
      "29193     True\n",
      "29194     True\n",
      "29195    False\n",
      "29196    False\n",
      "29197     True\n",
      "29198     True\n",
      "29199    False\n",
      "29200    False\n",
      "29201     True\n",
      "29202     True\n",
      "29203    False\n",
      "29204    False\n",
      "29205     True\n",
      "29206    False\n",
      "29207    False\n",
      "29208     True\n",
      "29209     True\n",
      "29210    False\n",
      "29211    False\n",
      "29212     True\n",
      "29213     True\n",
      "29214    False\n",
      "29215    False\n",
      "Name: Medal, dtype: bool\n",
      "****** count all shells both true and false from dfmen ******\n",
      "21721\n",
      "\n",
      "\n",
      "****** count total number  for bronze:  7175\n",
      "\n",
      "\n",
      "****** count all the column values  that have  true value only (bronze medal)******\n",
      "      City  Edition      Sport Discipline                Athlete  NOC Gender  \\\n",
      "2   Athens     1896   Aquatics   Swimming      DRIVAS, Dimitrios  GRE    Men   \n",
      "5   Athens     1896   Aquatics   Swimming  CHOROPHAS, Efstathios  GRE    Men   \n",
      "8   Athens     1896   Aquatics   Swimming  CHOROPHAS, Efstathios  GRE    Men   \n",
      "11  Athens     1896  Athletics  Athletics          LANE, Francis  USA    Men   \n",
      "12  Athens     1896  Athletics  Athletics       SZOKOLYI, Alajos  HUN    Men   \n",
      "\n",
      "                         Event Event_gender   Medal  \n",
      "2   100m freestyle for sailors            M  Bronze  \n",
      "5              1200m freestyle            M  Bronze  \n",
      "8               400m freestyle            M  Bronze  \n",
      "11                        100m            M  Bronze  \n",
      "12                        100m            M  Bronze  \n"
     ]
    }
   ],
   "source": [
    "## filter DataFrame dfmen by Bronze medal\n",
    "\n",
    "bronze_medal = dfmen['Medal'] =='Bronze'\n",
    "print(\"****** Checking if medal is bronze or not ******\")\n",
    "print(bronze_medal)\n",
    "print(\"****** count all shells both true and false from dfmen ******\")\n",
    "print(bronze_medal.count())\n",
    "\n",
    "bronze_medal_dfmen  = dfmen[bronze_medal] ## give only true result   \n",
    "\n",
    "\n",
    "\n",
    "print(\"\\n\\n****** count total number  for bronze: \",bronze_medal_dfmen.Medal.count())\n",
    "\n",
    "\n",
    "print(\"\\n\\n****** count all the column values  that have  true value only (bronze medal)******\")\n",
    "print(bronze_medal_dfmen.head())\n",
    "\n",
    "#bronze_medal_dfmen    "
   ]
  },
  {
   "cell_type": "code",
   "execution_count": 26,
   "metadata": {
    "collapsed": false
   },
   "outputs": [
    {
     "data": {
      "text/plain": [
       "7175"
      ]
     },
     "execution_count": 26,
     "metadata": {},
     "output_type": "execute_result"
    }
   ],
   "source": [
    "bronze_medal_dfmen.Medal.count()## count bronze medal\n",
    "total_bronze_medal_men = bronze_medal_dfmen.Medal.count()\n",
    "total_bronze_medal_men"
   ]
  },
  {
   "cell_type": "markdown",
   "metadata": {},
   "source": [
    "# Gender Women\n"
   ]
  },
  {
   "cell_type": "code",
   "execution_count": 27,
   "metadata": {
    "collapsed": false
   },
   "outputs": [
    {
     "data": {
      "text/plain": [
       "array(['Men', 'Women'], dtype=object)"
      ]
     },
     "execution_count": 27,
     "metadata": {},
     "output_type": "execute_result"
    }
   ],
   "source": [
    "df.Gender.unique()"
   ]
  },
  {
   "cell_type": "code",
   "execution_count": 28,
   "metadata": {
    "collapsed": false
   },
   "outputs": [
    {
     "data": {
      "text/html": [
       "<div>\n",
       "<table border=\"1\" class=\"dataframe\">\n",
       "  <thead>\n",
       "    <tr style=\"text-align: right;\">\n",
       "      <th></th>\n",
       "      <th>City</th>\n",
       "      <th>Edition</th>\n",
       "      <th>Sport</th>\n",
       "      <th>Discipline</th>\n",
       "      <th>Athlete</th>\n",
       "      <th>NOC</th>\n",
       "      <th>Gender</th>\n",
       "      <th>Event</th>\n",
       "      <th>Event_gender</th>\n",
       "      <th>Medal</th>\n",
       "    </tr>\n",
       "  </thead>\n",
       "  <tbody>\n",
       "    <tr>\n",
       "      <th>0</th>\n",
       "      <td>Athens</td>\n",
       "      <td>1896</td>\n",
       "      <td>Aquatics</td>\n",
       "      <td>Swimming</td>\n",
       "      <td>HAJOS, Alfred</td>\n",
       "      <td>HUN</td>\n",
       "      <td>Men</td>\n",
       "      <td>100m freestyle</td>\n",
       "      <td>M</td>\n",
       "      <td>Gold</td>\n",
       "    </tr>\n",
       "    <tr>\n",
       "      <th>1</th>\n",
       "      <td>Athens</td>\n",
       "      <td>1896</td>\n",
       "      <td>Aquatics</td>\n",
       "      <td>Swimming</td>\n",
       "      <td>HERSCHMANN, Otto</td>\n",
       "      <td>AUT</td>\n",
       "      <td>Men</td>\n",
       "      <td>100m freestyle</td>\n",
       "      <td>M</td>\n",
       "      <td>Silver</td>\n",
       "    </tr>\n",
       "    <tr>\n",
       "      <th>2</th>\n",
       "      <td>Athens</td>\n",
       "      <td>1896</td>\n",
       "      <td>Aquatics</td>\n",
       "      <td>Swimming</td>\n",
       "      <td>DRIVAS, Dimitrios</td>\n",
       "      <td>GRE</td>\n",
       "      <td>Men</td>\n",
       "      <td>100m freestyle for sailors</td>\n",
       "      <td>M</td>\n",
       "      <td>Bronze</td>\n",
       "    </tr>\n",
       "    <tr>\n",
       "      <th>3</th>\n",
       "      <td>Athens</td>\n",
       "      <td>1896</td>\n",
       "      <td>Aquatics</td>\n",
       "      <td>Swimming</td>\n",
       "      <td>MALOKINIS, Ioannis</td>\n",
       "      <td>GRE</td>\n",
       "      <td>Men</td>\n",
       "      <td>100m freestyle for sailors</td>\n",
       "      <td>M</td>\n",
       "      <td>Gold</td>\n",
       "    </tr>\n",
       "    <tr>\n",
       "      <th>4</th>\n",
       "      <td>Athens</td>\n",
       "      <td>1896</td>\n",
       "      <td>Aquatics</td>\n",
       "      <td>Swimming</td>\n",
       "      <td>CHASAPIS, Spiridon</td>\n",
       "      <td>GRE</td>\n",
       "      <td>Men</td>\n",
       "      <td>100m freestyle for sailors</td>\n",
       "      <td>M</td>\n",
       "      <td>Silver</td>\n",
       "    </tr>\n",
       "  </tbody>\n",
       "</table>\n",
       "</div>"
      ],
      "text/plain": [
       "     City  Edition     Sport Discipline             Athlete  NOC Gender  \\\n",
       "0  Athens     1896  Aquatics   Swimming       HAJOS, Alfred  HUN    Men   \n",
       "1  Athens     1896  Aquatics   Swimming    HERSCHMANN, Otto  AUT    Men   \n",
       "2  Athens     1896  Aquatics   Swimming   DRIVAS, Dimitrios  GRE    Men   \n",
       "3  Athens     1896  Aquatics   Swimming  MALOKINIS, Ioannis  GRE    Men   \n",
       "4  Athens     1896  Aquatics   Swimming  CHASAPIS, Spiridon  GRE    Men   \n",
       "\n",
       "                        Event Event_gender   Medal  \n",
       "0              100m freestyle            M    Gold  \n",
       "1              100m freestyle            M  Silver  \n",
       "2  100m freestyle for sailors            M  Bronze  \n",
       "3  100m freestyle for sailors            M    Gold  \n",
       "4  100m freestyle for sailors            M  Silver  "
      ]
     },
     "execution_count": 28,
     "metadata": {},
     "output_type": "execute_result"
    }
   ],
   "source": [
    "df.head()"
   ]
  },
  {
   "cell_type": "markdown",
   "metadata": {},
   "source": [
    "# Check true or false "
   ]
  },
  {
   "cell_type": "code",
   "execution_count": 29,
   "metadata": {
    "collapsed": false
   },
   "outputs": [
    {
     "name": "stdout",
     "output_type": "stream",
     "text": [
      "\n",
      "***************************\n",
      "\n",
      "0    False\n",
      "1    False\n",
      "2    False\n",
      "3    False\n",
      "4    False\n",
      "Name: Gender, dtype: bool\n",
      "\n",
      "******** Filtering Data frame by Gender Women ******************\n",
      "\n",
      "      City  Edition   Sport Discipline                Athlete  NOC Gender  \\\n",
      "416  Paris     1900    Golf       Golf           PRATT, Daria  USA  Women   \n",
      "417  Paris     1900    Golf       Golf  ABBOTT, Margaret Ives  USA  Women   \n",
      "418  Paris     1900    Golf       Golf      WHITTIER, Pauline  USA  Women   \n",
      "639  Paris     1900  Tennis     Tennis          JONES, Marion  ZZX  Women   \n",
      "640  Paris     1900  Tennis     Tennis      ROSENBAUM, Hedwig  ZZX  Women   \n",
      "\n",
      "             Event Event_gender   Medal  \n",
      "416     individual            W  Bronze  \n",
      "417     individual            W    Gold  \n",
      "418     individual            W  Silver  \n",
      "639  mixed doubles            X  Bronze  \n",
      "640  mixed doubles            X  Bronze  \n",
      "\n",
      "*********** Counting all columns having Gender Women only ******************\n",
      "\n",
      "City            7495\n",
      "Edition         7495\n",
      "Sport           7495\n",
      "Discipline      7495\n",
      "Athlete         7495\n",
      "NOC             7495\n",
      "Gender          7495\n",
      "Event           7495\n",
      "Event_gender    7495\n",
      "Medal           7495\n",
      "dtype: int64\n",
      "\n",
      "****************** Count ony Medal coulnms ***********************************\n",
      "\n",
      "7495\n",
      "\n",
      "**********************************************************\n",
      "\n"
     ]
    }
   ],
   "source": [
    "women = df['Gender'] == 'Women'\n",
    "print(\"\\n***************************\\n\")\n",
    "print(women.head())\n",
    "print(\"\\n******** Filtering Data frame by Gender Women ******************\\n\")\n",
    "dfwomen = df[women]\n",
    "print(dfwomen.head())\n",
    "\n",
    "print(\"\\n*********** Counting all columns having Gender Women only ******************\\n\")\n",
    "\n",
    "print(dfwomen.count())\n",
    "\n",
    "print(\"\\n****************** Count ony Medal coulnms ***********************************\\n\")\n",
    "\n",
    "print(dfwomen.Medal.count())\n",
    "\n",
    "print(\"\\n**********************************************************\\n\")\n"
   ]
  },
  {
   "cell_type": "code",
   "execution_count": null,
   "metadata": {
    "collapsed": true
   },
   "outputs": [],
   "source": []
  },
  {
   "cell_type": "markdown",
   "metadata": {},
   "source": [
    "#  Medal -Women"
   ]
  },
  {
   "cell_type": "code",
   "execution_count": 30,
   "metadata": {
    "collapsed": false
   },
   "outputs": [],
   "source": [
    "gold_medal = dfwomen['Medal'] == 'Gold'\n",
    "silver_medal = dfwomen['Medal'] == 'Silver'\n",
    "bronze_medal = dfwomen['Medal'] == 'Silver'\n"
   ]
  },
  {
   "cell_type": "markdown",
   "metadata": {},
   "source": [
    "# Gold Medal -Women"
   ]
  },
  {
   "cell_type": "code",
   "execution_count": 31,
   "metadata": {
    "collapsed": false
   },
   "outputs": [
    {
     "data": {
      "text/html": [
       "<div>\n",
       "<table border=\"1\" class=\"dataframe\">\n",
       "  <thead>\n",
       "    <tr style=\"text-align: right;\">\n",
       "      <th></th>\n",
       "      <th>City</th>\n",
       "      <th>Edition</th>\n",
       "      <th>Sport</th>\n",
       "      <th>Discipline</th>\n",
       "      <th>Athlete</th>\n",
       "      <th>NOC</th>\n",
       "      <th>Gender</th>\n",
       "      <th>Event</th>\n",
       "      <th>Event_gender</th>\n",
       "      <th>Medal</th>\n",
       "    </tr>\n",
       "  </thead>\n",
       "  <tbody>\n",
       "    <tr>\n",
       "      <th>417</th>\n",
       "      <td>Paris</td>\n",
       "      <td>1900</td>\n",
       "      <td>Golf</td>\n",
       "      <td>Golf</td>\n",
       "      <td>ABBOTT, Margaret Ives</td>\n",
       "      <td>USA</td>\n",
       "      <td>Women</td>\n",
       "      <td>individual</td>\n",
       "      <td>W</td>\n",
       "      <td>Gold</td>\n",
       "    </tr>\n",
       "    <tr>\n",
       "      <th>641</th>\n",
       "      <td>Paris</td>\n",
       "      <td>1900</td>\n",
       "      <td>Tennis</td>\n",
       "      <td>Tennis</td>\n",
       "      <td>COOPER, Charlotte</td>\n",
       "      <td>GBR</td>\n",
       "      <td>Women</td>\n",
       "      <td>mixed doubles</td>\n",
       "      <td>X</td>\n",
       "      <td>Gold</td>\n",
       "    </tr>\n",
       "    <tr>\n",
       "      <th>649</th>\n",
       "      <td>Paris</td>\n",
       "      <td>1900</td>\n",
       "      <td>Tennis</td>\n",
       "      <td>Tennis</td>\n",
       "      <td>COOPER, Charlotte</td>\n",
       "      <td>GBR</td>\n",
       "      <td>Women</td>\n",
       "      <td>singles</td>\n",
       "      <td>W</td>\n",
       "      <td>Gold</td>\n",
       "    </tr>\n",
       "    <tr>\n",
       "      <th>710</th>\n",
       "      <td>St Louis</td>\n",
       "      <td>1904</td>\n",
       "      <td>Archery</td>\n",
       "      <td>Archery</td>\n",
       "      <td>HOWELL, Matilda Scott</td>\n",
       "      <td>USA</td>\n",
       "      <td>Women</td>\n",
       "      <td>double columbia round (50y - 40y - 30y)</td>\n",
       "      <td>W</td>\n",
       "      <td>Gold</td>\n",
       "    </tr>\n",
       "    <tr>\n",
       "      <th>713</th>\n",
       "      <td>St Louis</td>\n",
       "      <td>1904</td>\n",
       "      <td>Archery</td>\n",
       "      <td>Archery</td>\n",
       "      <td>HOWELL, Matilda Scott</td>\n",
       "      <td>USA</td>\n",
       "      <td>Women</td>\n",
       "      <td>double national round (60y - 50y)</td>\n",
       "      <td>W</td>\n",
       "      <td>Gold</td>\n",
       "    </tr>\n",
       "  </tbody>\n",
       "</table>\n",
       "</div>"
      ],
      "text/plain": [
       "         City  Edition    Sport Discipline                Athlete  NOC Gender  \\\n",
       "417     Paris     1900     Golf       Golf  ABBOTT, Margaret Ives  USA  Women   \n",
       "641     Paris     1900   Tennis     Tennis      COOPER, Charlotte  GBR  Women   \n",
       "649     Paris     1900   Tennis     Tennis      COOPER, Charlotte  GBR  Women   \n",
       "710  St Louis     1904  Archery    Archery  HOWELL, Matilda Scott  USA  Women   \n",
       "713  St Louis     1904  Archery    Archery  HOWELL, Matilda Scott  USA  Women   \n",
       "\n",
       "                                       Event Event_gender Medal  \n",
       "417                               individual            W  Gold  \n",
       "641                            mixed doubles            X  Gold  \n",
       "649                                  singles            W  Gold  \n",
       "710  double columbia round (50y - 40y - 30y)            W  Gold  \n",
       "713        double national round (60y - 50y)            W  Gold  "
      ]
     },
     "execution_count": 31,
     "metadata": {},
     "output_type": "execute_result"
    }
   ],
   "source": [
    "dfwomen[gold_medal].head()\n"
   ]
  },
  {
   "cell_type": "code",
   "execution_count": 32,
   "metadata": {
    "collapsed": false
   },
   "outputs": [
    {
     "data": {
      "text/plain": [
       "2485"
      ]
     },
     "execution_count": 32,
     "metadata": {},
     "output_type": "execute_result"
    }
   ],
   "source": [
    "dfwomen[gold_medal].Medal.count()\n",
    "\n",
    "total_gold_medal_women = dfwomen[gold_medal].Medal.count()\n",
    "\n",
    "total_gold_medal_women"
   ]
  },
  {
   "cell_type": "code",
   "execution_count": null,
   "metadata": {
    "collapsed": true
   },
   "outputs": [],
   "source": []
  },
  {
   "cell_type": "markdown",
   "metadata": {},
   "source": [
    "# Silver Medal - Women"
   ]
  },
  {
   "cell_type": "code",
   "execution_count": 33,
   "metadata": {
    "collapsed": false
   },
   "outputs": [
    {
     "data": {
      "text/plain": [
       "2496"
      ]
     },
     "execution_count": 33,
     "metadata": {},
     "output_type": "execute_result"
    }
   ],
   "source": [
    "dfwomen[silver_medal].Medal.count()\n",
    "\n",
    "total_silver_medal_women = dfwomen[silver_medal].Medal.count()\n",
    "\n",
    "total_silver_medal_women"
   ]
  },
  {
   "cell_type": "code",
   "execution_count": null,
   "metadata": {
    "collapsed": true
   },
   "outputs": [],
   "source": []
  },
  {
   "cell_type": "markdown",
   "metadata": {},
   "source": [
    "# Bronze Medal - Women"
   ]
  },
  {
   "cell_type": "code",
   "execution_count": 34,
   "metadata": {
    "collapsed": false
   },
   "outputs": [
    {
     "data": {
      "text/plain": [
       "2496"
      ]
     },
     "execution_count": 34,
     "metadata": {},
     "output_type": "execute_result"
    }
   ],
   "source": [
    "dfwomen[bronze_medal].Medal.count()\n",
    "\n",
    "total_bronze_medal_women = dfwomen[bronze_medal].Medal.count()\n",
    "\n",
    "total_bronze_medal_women"
   ]
  },
  {
   "cell_type": "code",
   "execution_count": null,
   "metadata": {
    "collapsed": true
   },
   "outputs": [],
   "source": []
  },
  {
   "cell_type": "markdown",
   "metadata": {},
   "source": [
    "# Create Data for Medal list for Men and women"
   ]
  },
  {
   "cell_type": "code",
   "execution_count": 35,
   "metadata": {
    "collapsed": true
   },
   "outputs": [],
   "source": [
    "gender = ['Men','Women']\n",
    "gold =[total_gold_medal_men,total_gold_medal_women]\n",
    "silver =[total_silver_medal_men,total_silver_medal_women]\n",
    "bronze =[total_bronze_medal_men,total_bronze_medal_women]"
   ]
  },
  {
   "cell_type": "code",
   "execution_count": 36,
   "metadata": {
    "collapsed": false
   },
   "outputs": [
    {
     "data": {
      "text/plain": [
       "[('Men', 7365, 7181, 7175), ('Women', 2485, 2496, 2496)]"
      ]
     },
     "execution_count": 36,
     "metadata": {},
     "output_type": "execute_result"
    }
   ],
   "source": [
    "dataSet = list(zip(gender,gold,silver,bronze))\n",
    "dataSet"
   ]
  },
  {
   "cell_type": "code",
   "execution_count": 37,
   "metadata": {
    "collapsed": false
   },
   "outputs": [
    {
     "data": {
      "text/html": [
       "<div>\n",
       "<table border=\"1\" class=\"dataframe\">\n",
       "  <thead>\n",
       "    <tr style=\"text-align: right;\">\n",
       "      <th></th>\n",
       "      <th>Gold</th>\n",
       "      <th>Silver</th>\n",
       "      <th>Bronze</th>\n",
       "    </tr>\n",
       "    <tr>\n",
       "      <th>Gender</th>\n",
       "      <th></th>\n",
       "      <th></th>\n",
       "      <th></th>\n",
       "    </tr>\n",
       "  </thead>\n",
       "  <tbody>\n",
       "    <tr>\n",
       "      <th>Men</th>\n",
       "      <td>7365</td>\n",
       "      <td>7181</td>\n",
       "      <td>7175</td>\n",
       "    </tr>\n",
       "    <tr>\n",
       "      <th>Women</th>\n",
       "      <td>2485</td>\n",
       "      <td>2496</td>\n",
       "      <td>2496</td>\n",
       "    </tr>\n",
       "  </tbody>\n",
       "</table>\n",
       "</div>"
      ],
      "text/plain": [
       "        Gold  Silver  Bronze\n",
       "Gender                      \n",
       "Men     7365    7181    7175\n",
       "Women   2485    2496    2496"
      ]
     },
     "execution_count": 37,
     "metadata": {},
     "output_type": "execute_result"
    }
   ],
   "source": [
    "medalist_df = panda.DataFrame(data=dataSet,columns=['Gender','Gold','Silver','Bronze'])\n",
    "medalist_df.set_index('Gender')"
   ]
  },
  {
   "cell_type": "markdown",
   "metadata": {},
   "source": [
    "# Save Data frame to excel"
   ]
  },
  {
   "cell_type": "code",
   "execution_count": 38,
   "metadata": {
    "collapsed": true
   },
   "outputs": [],
   "source": [
    "medalist_df.to_excel('medalistcount.xlsx')"
   ]
  },
  {
   "cell_type": "markdown",
   "metadata": {},
   "source": [
    "# Read Data"
   ]
  },
  {
   "cell_type": "code",
   "execution_count": 39,
   "metadata": {
    "collapsed": false
   },
   "outputs": [],
   "source": [
    "medalistdf = panda.read_excel('medalistcount.xlsx')"
   ]
  },
  {
   "cell_type": "code",
   "execution_count": 40,
   "metadata": {
    "collapsed": false
   },
   "outputs": [
    {
     "data": {
      "text/html": [
       "<div>\n",
       "<table border=\"1\" class=\"dataframe\">\n",
       "  <thead>\n",
       "    <tr style=\"text-align: right;\">\n",
       "      <th></th>\n",
       "      <th>Gender</th>\n",
       "      <th>Gold</th>\n",
       "      <th>Silver</th>\n",
       "      <th>Bronze</th>\n",
       "    </tr>\n",
       "  </thead>\n",
       "  <tbody>\n",
       "    <tr>\n",
       "      <th>0</th>\n",
       "      <td>Men</td>\n",
       "      <td>7365</td>\n",
       "      <td>7181</td>\n",
       "      <td>7175</td>\n",
       "    </tr>\n",
       "    <tr>\n",
       "      <th>1</th>\n",
       "      <td>Women</td>\n",
       "      <td>2485</td>\n",
       "      <td>2496</td>\n",
       "      <td>2496</td>\n",
       "    </tr>\n",
       "  </tbody>\n",
       "</table>\n",
       "</div>"
      ],
      "text/plain": [
       "  Gender  Gold  Silver  Bronze\n",
       "0    Men  7365    7181    7175\n",
       "1  Women  2485    2496    2496"
      ]
     },
     "execution_count": 40,
     "metadata": {},
     "output_type": "execute_result"
    }
   ],
   "source": [
    "medalistdf"
   ]
  },
  {
   "cell_type": "code",
   "execution_count": 41,
   "metadata": {
    "collapsed": false
   },
   "outputs": [
    {
     "data": {
      "text/html": [
       "<div>\n",
       "<table border=\"1\" class=\"dataframe\">\n",
       "  <thead>\n",
       "    <tr style=\"text-align: right;\">\n",
       "      <th></th>\n",
       "      <th>Gold</th>\n",
       "      <th>Silver</th>\n",
       "      <th>Bronze</th>\n",
       "    </tr>\n",
       "    <tr>\n",
       "      <th>Gender</th>\n",
       "      <th></th>\n",
       "      <th></th>\n",
       "      <th></th>\n",
       "    </tr>\n",
       "  </thead>\n",
       "  <tbody>\n",
       "    <tr>\n",
       "      <th>Men</th>\n",
       "      <td>7365</td>\n",
       "      <td>7181</td>\n",
       "      <td>7175</td>\n",
       "    </tr>\n",
       "    <tr>\n",
       "      <th>Women</th>\n",
       "      <td>2485</td>\n",
       "      <td>2496</td>\n",
       "      <td>2496</td>\n",
       "    </tr>\n",
       "  </tbody>\n",
       "</table>\n",
       "</div>"
      ],
      "text/plain": [
       "        Gold  Silver  Bronze\n",
       "Gender                      \n",
       "Men     7365    7181    7175\n",
       "Women   2485    2496    2496"
      ]
     },
     "execution_count": 41,
     "metadata": {},
     "output_type": "execute_result"
    }
   ],
   "source": [
    "medalistdf.set_index('Gender')"
   ]
  },
  {
   "cell_type": "code",
   "execution_count": null,
   "metadata": {
    "collapsed": true
   },
   "outputs": [],
   "source": []
  },
  {
   "cell_type": "code",
   "execution_count": 59,
   "metadata": {
    "collapsed": false
   },
   "outputs": [
    {
     "data": {
      "text/plain": [
       "<matplotlib.axes._subplots.AxesSubplot at 0x119a29fd0>"
      ]
     },
     "execution_count": 59,
     "metadata": {},
     "output_type": "execute_result"
    },
    {
     "data": {
      "image/png": "[encoded data removed]",
      "text/plain": [
       "<matplotlib.figure.Figure at 0x119b90b38>"
      ]
     },
     "metadata": {},
     "output_type": "display_data"
    }
   ],
   "source": [
    "medalistdf['Gold'].plot.pie()"
   ]
  },
  {
   "cell_type": "code",
   "execution_count": 61,
   "metadata": {
    "collapsed": false
   },
   "outputs": [
    {
     "data": {
      "text/plain": [
       "<matplotlib.axes._subplots.AxesSubplot at 0x1155f57f0>"
      ]
     },
     "execution_count": 61,
     "metadata": {},
     "output_type": "execute_result"
    },
    {
     "data": {
      "image/png": "[encoded data removed]",
      "text/plain": [
       "<matplotlib.figure.Figure at 0x1155cea20>"
      ]
     },
     "metadata": {},
     "output_type": "display_data"
    }
   ],
   "source": [
    "goldSeries = panda.Series([total_gold_medal_men,total_silver_medal_women],index=['Male','Female'],name=\"Gold Medal\")\n",
    "goldSeries.plot.pie()"
   ]
  },
  {
   "cell_type": "code",
   "execution_count": 63,
   "metadata": {
    "collapsed": false
   },
   "outputs": [
    {
     "data": {
      "text/plain": [
       "<matplotlib.axes._subplots.AxesSubplot at 0x115d89780>"
      ]
     },
     "execution_count": 63,
     "metadata": {},
     "output_type": "execute_result"
    },
    {
     "data": {
      "image/png": "[encoded data removed]",
      "text/plain": [
       "<matplotlib.figure.Figure at 0x115d910f0>"
      ]
     },
     "metadata": {},
     "output_type": "display_data"
    }
   ],
   "source": [
    "silverSeries = panda.Series([total_silver_medal_men,total_silver_medal_women],index=['Male','Female'],name=\"silver Medal\")\n",
    "silverSeries.plot.pie()"
   ]
  },
  {
   "cell_type": "code",
   "execution_count": 64,
   "metadata": {
    "collapsed": false
   },
   "outputs": [],
   "source": [
    "series = panda.Series([total_bronze_medal_men,total_bronze_medal_women],index=['Male','Female'],name=\"Bronze\")"
   ]
  },
  {
   "cell_type": "code",
   "execution_count": 66,
   "metadata": {
    "collapsed": false
   },
   "outputs": [
    {
     "data": {
      "text/plain": [
       "<matplotlib.axes._subplots.AxesSubplot at 0x115d3e7b8>"
      ]
     },
     "execution_count": 66,
     "metadata": {},
     "output_type": "execute_result"
    },
    {
     "data": {
      "image/png": "[encoded data removed]",
      "text/plain": [
       "<matplotlib.figure.Figure at 0x115d52940>"
      ]
     },
     "metadata": {},
     "output_type": "display_data"
    }
   ],
   "source": [
    "series.plot.pie(figsize=(6,6))"
   ]
  },
  {
   "cell_type": "code",
   "execution_count": 100,
   "metadata": {
    "collapsed": false
   },
   "outputs": [],
   "source": [
    "s = panda.Series([total_gold_medal_men,total_silver_medal_men, total_bronze_medal_men,total_gold_medal_women,total_silver_medal_women,total_bronze_medal_women],index=['Gold(M)','Silver(M)','Bronze(M)','Gold(W)','Silver(W)','Bronze(W)'],name=\"Medals\")"
   ]
  },
  {
   "cell_type": "code",
   "execution_count": 101,
   "metadata": {
    "collapsed": false
   },
   "outputs": [
    {
     "data": {
      "text/plain": [
       "<matplotlib.axes._subplots.AxesSubplot at 0x11a739390>"
      ]
     },
     "execution_count": 101,
     "metadata": {},
     "output_type": "execute_result"
    },
    {
     "data": {
      "image/png": "[encoded data removed]",
      "text/plain": [
       "<matplotlib.figure.Figure at 0x11a79eeb8>"
      ]
     },
     "metadata": {},
     "output_type": "display_data"
    }
   ],
   "source": [
    "s.plot.pie(colors=['#B39700','#C0C0C0','#905923','#B39700','#C0C0C0','#905923'])"
   ]
  }
 ],
 "metadata": {
  "language_info": {
   "codemirror_mode": {
    "name": "ipython",
    "version": 3
   },
   "file_extension": ".py",
   "mimetype": "text/x-python",
   "name": "python",
   "nbconvert_exporter": "python",
   "pygments_lexer": "ipython3",
   "version": "3.5.1"
  }
 },
 "nbformat": 4,
 "nbformat_minor": 0
}
